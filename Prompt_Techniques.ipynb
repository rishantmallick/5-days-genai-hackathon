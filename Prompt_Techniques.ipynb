{
  "nbformat": 4,
  "nbformat_minor": 0,
  "metadata": {
    "colab": {
      "provenance": [],
      "authorship_tag": "ABX9TyNcRACeOWcmmGIWNkFSoLYN",
      "include_colab_link": true
    },
    "kernelspec": {
      "name": "python3",
      "display_name": "Python 3"
    },
    "language_info": {
      "name": "python"
    }
  },
  "cells": [
    {
      "cell_type": "markdown",
      "metadata": {
        "id": "view-in-github",
        "colab_type": "text"
      },
      "source": [
        "<a href=\"https://colab.research.google.com/github/rishantmallick/5-days-genai-hackathon/blob/main/Prompt_Techniques.ipynb\" target=\"_parent\"><img src=\"https://colab.research.google.com/assets/colab-badge.svg\" alt=\"Open In Colab\"/></a>"
      ]
    },
    {
      "cell_type": "code",
      "execution_count": 1,
      "metadata": {
        "colab": {
          "base_uri": "https://localhost:8080/"
        },
        "id": "5vhdwYY3Dk3s",
        "outputId": "6de0beb5-bcbd-4e6d-c571-081ceb86a04b"
      },
      "outputs": [
        {
          "output_type": "stream",
          "name": "stdout",
          "text": [
            "\u001b[?25l   \u001b[90m━━━━━━━━━━━━━━━━━━━━━━━━━━━━━━━━━━━━━━━━\u001b[0m \u001b[32m0.0/222.8 kB\u001b[0m \u001b[31m?\u001b[0m eta \u001b[36m-:--:--\u001b[0m\r\u001b[2K   \u001b[91m━━━━━━━━━━━━━━━━━━━━━━━━━━━━━━━━━━━━━━\u001b[0m\u001b[91m╸\u001b[0m\u001b[90m━\u001b[0m \u001b[32m215.0/222.8 kB\u001b[0m \u001b[31m10.0 MB/s\u001b[0m eta \u001b[36m0:00:01\u001b[0m\r\u001b[2K   \u001b[90m━━━━━━━━━━━━━━━━━━━━━━━━━━━━━━━━━━━━━━━━\u001b[0m \u001b[32m222.8/222.8 kB\u001b[0m \u001b[31m5.5 MB/s\u001b[0m eta \u001b[36m0:00:00\u001b[0m\n",
            "\u001b[?25h"
          ]
        }
      ],
      "source": [
        "!pip install -q -U google-genai"
      ]
    },
    {
      "cell_type": "code",
      "source": [
        "# running a basic llm - prompt engineering\n",
        "from google import genai\n",
        "from google.colab import userdata\n",
        "client = genai.Client(api_key=userdata.get(\"GOOGLE_API_KEY_1\"))\n",
        "response = client.models.generate_content(\n",
        "    model=\"gemini-1.5-pro\", contents=\"What is quantum computing?\"\n",
        ")\n",
        "print(response.text)"
      ],
      "metadata": {
        "colab": {
          "base_uri": "https://localhost:8080/"
        },
        "id": "-KQqyCYPkpSP",
        "outputId": "908b27ba-aa65-4ab5-f8b7-93502c954d5b"
      },
      "execution_count": 2,
      "outputs": [
        {
          "output_type": "stream",
          "name": "stdout",
          "text": [
            "Quantum computing is a type of computation that harnesses the counterintuitive principles of quantum mechanics to solve certain problems that are intractable for classical computers.  Unlike classical computers that store information as bits representing 0 or 1, quantum computers use quantum bits or \"qubits.\"  Qubits can represent 0, 1, or a combination of both simultaneously through a concept called superposition.\n",
            "\n",
            "Here's a breakdown of key concepts:\n",
            "\n",
            "* **Superposition:**  This allows a qubit to exist in multiple states (both 0 and 1) at the same time.  This vastly increases the computational power, as a single qubit can perform multiple calculations simultaneously.\n",
            "\n",
            "* **Entanglement:**  This links two or more qubits together in such a way that they share the same fate, regardless of the distance separating them.  A measurement on one entangled qubit instantaneously reveals the state of the other(s), enabling complex correlations and parallel computations.\n",
            "\n",
            "* **Quantum Algorithms:**  These are specifically designed to exploit the principles of superposition and entanglement.  Shor's algorithm for factoring large numbers and Grover's algorithm for searching unsorted databases are famous examples.\n",
            "\n",
            "* **Quantum Gates:**  Similar to logic gates in classical computers, these manipulate qubits and perform operations on them.  Examples include Hadamard, Pauli-X, CNOT gates, etc.\n",
            "\n",
            "**How it's different from classical computing:**\n",
            "\n",
            "* **Data representation:** Classical computers use bits (0 or 1), while quantum computers use qubits (0, 1, or both).\n",
            "* **Processing power:** Quantum computers can perform multiple calculations simultaneously due to superposition, offering exponential speedups for certain tasks.\n",
            "* **Types of problems solved:** Quantum computers are not meant to replace classical computers entirely.  They excel at specific problems related to simulation, optimization, and cryptography, while classical computers are better suited for everyday tasks.\n",
            "\n",
            "**Potential applications:**\n",
            "\n",
            "* **Drug discovery and materials science:** Simulating molecular interactions to design new drugs and materials.\n",
            "* **Financial modeling:** Developing more accurate and efficient financial models.\n",
            "* **Cryptography:** Breaking existing encryption algorithms and developing new, quantum-resistant ones.\n",
            "* **Optimization problems:** Solving complex optimization problems in logistics, supply chain management, etc.\n",
            "* **Artificial intelligence:** Enhancing machine learning algorithms and developing new AI models.\n",
            "\n",
            "**Challenges:**\n",
            "\n",
            "* **Qubit stability (decoherence):** Qubits are extremely fragile and lose their quantum properties easily due to interactions with the environment.  Maintaining their coherence is a major challenge.\n",
            "* **Error correction:** Quantum computers are prone to errors.  Developing robust error correction methods is crucial.\n",
            "* **Scalability:** Building large-scale, fault-tolerant quantum computers is a significant engineering challenge.\n",
            "* **Algorithm development:** Designing new quantum algorithms for relevant problems requires specialized expertise.\n",
            "\n",
            "Despite these challenges, quantum computing is a rapidly evolving field with the potential to revolutionize various industries and scientific disciplines.\n",
            "\n"
          ]
        }
      ]
    },
    {
      "cell_type": "code",
      "source": [
        "#asking question\n",
        "from google import genai\n",
        "from google.colab import userdata\n",
        "client = genai.Client(api_key=userdata.get(\"GOOGLE_API_KEY_1\"))\n",
        "prompt = (\n",
        "    \"Explain how artificial intelligence mimics human learning in simple terms. \"\n",
        "    \"Answer in 2–3 sentences using simple language suitable for beginners. Avoid technical jargon.\"\n",
        ")\n",
        "response = client.models.generate_content(\n",
        "    model=\"gemini-1.5-pro\", contents=prompt\n",
        ")\n",
        "print(response.text)"
      ],
      "metadata": {
        "id": "KdfowlxGnHaO",
        "colab": {
          "base_uri": "https://localhost:8080/"
        },
        "outputId": "698ee95e-ea58-4763-ae6f-fe5e355bd9eb"
      },
      "execution_count": 3,
      "outputs": [
        {
          "output_type": "stream",
          "name": "stdout",
          "text": [
            "Imagine training a dog with treats:  AI learns similarly by being \"fed\" lots of data and rewarded for correct answers.  Over time, the AI gets better at figuring things out, just like a dog learns new tricks.\n",
            "\n"
          ]
        }
      ]
    },
    {
      "cell_type": "code",
      "source": [
        "#sentiment analysis\n",
        "from google import genai\n",
        "from google.colab import userdata\n",
        "client = genai.Client(api_key=userdata.get(\"GOOGLE_API_KEY_1\"))\n",
        "prompt = (\n",
        "    '''Classify movie reviews as POSITIVE, NEUTRAL or NEGATIVE.\n",
        "Review: \"Her\" is a disturbing study revealing the direction\n",
        "humanity is headed if AI is allowed to keep evolving,\n",
        "unchecked. I wish there were more movies like this masterpiece.\n",
        "Sentiment:'''\n",
        ")\n",
        "response = client.models.generate_content(\n",
        "    model=\"gemini-1.5-pro\", contents=prompt\n",
        ")\n",
        "print(response.text)"
      ],
      "metadata": {
        "id": "YwikNXFUnHff",
        "colab": {
          "base_uri": "https://localhost:8080/"
        },
        "outputId": "83e2f7ae-4273-4b2e-857c-ea49cd2e3f13"
      },
      "execution_count": 4,
      "outputs": [
        {
          "output_type": "stream",
          "name": "stdout",
          "text": [
            "POSITIVE. Despite the reviewer mentioning \"disturbing,\" they clearly admire the film, calling it a \"masterpiece\" and wishing for more movies like it.  The \"disturbing\" aspect seems to be part of what the reviewer appreciates about the film's thought-provoking nature.\n",
            "\n"
          ]
        }
      ]
    },
    {
      "cell_type": "code",
      "source": [
        "#parsing\n",
        "from google import genai\n",
        "from google.colab import userdata\n",
        "client = genai.Client(api_key=userdata.get(\"GOOGLE_API_KEY_1\"))\n",
        "prompt = (\n",
        "    '''Parse a customer's pizza order into valid JSON:\n",
        "\n",
        "EXAMPLE:\n",
        "I want a small pizza with cheese, tomato sauce, and pepperoni.\n",
        "JSON Response:\n",
        "```\n",
        "{\n",
        "\"size\": \"small\",\n",
        "\"type\": \"normal\",\n",
        "\"ingredients\": [[\"cheese\", \"tomato sauce\", \"peperoni\"]]\n",
        "}\n",
        "```\n",
        "Can I get a large pizza with tomato sauce, basil and mozzarella\n",
        "{\n",
        "\"size\": \"large\",\n",
        "\"type\": \"normal\",\n",
        "\"ingredients\": [[\"tomato sauce\", \"bazel\", \"mozzarella\"]]\n",
        "}\n",
        "Now, I would like a large pizza, with the first half cheese and\n",
        "mozzarella. And the other tomato sauce, ham and pineapple.\n",
        "JSON Response:'''\n",
        ")\n",
        "response = client.models.generate_content(\n",
        "    model=\"gemini-1.5-pro\", contents=prompt\n",
        ")\n",
        "print(response.text)"
      ],
      "metadata": {
        "id": "rqdduru-nHl5",
        "colab": {
          "base_uri": "https://localhost:8080/"
        },
        "outputId": "34557b06-a10e-43d8-b456-946f36cd67f8"
      },
      "execution_count": 5,
      "outputs": [
        {
          "output_type": "stream",
          "name": "stdout",
          "text": [
            "```json\n",
            "{\n",
            "  \"size\": \"large\",\n",
            "  \"type\": \"half-half\",\n",
            "  \"ingredients\": [\n",
            "    [\"cheese\", \"mozzarella\"],\n",
            "    [\"tomato sauce\", \"ham\", \"pineapple\"]\n",
            "  ]\n",
            "}\n",
            "```\n",
            "\n"
          ]
        }
      ]
    },
    {
      "cell_type": "code",
      "source": [
        "#sentiment analysis\n",
        "from google import genai\n",
        "from google.colab import userdata\n",
        "client = genai.Client(api_key=userdata.get(\"GOOGLE_API_KEY_1\"))\n",
        "prompt = (\n",
        "    '''Classify movie reviews as positive, neutral or negative. Only\n",
        "\n",
        "return the label in uppercase.\n",
        "Review: \"Her\" is a disturbing study revealing the direction\n",
        "humanity is headed if AI is allowed to keep evolving,\n",
        "unchecked. It's so disturbing I couldn't watch it.\n",
        "Sentiment:'''\n",
        ")\n",
        "response = client.models.generate_content(\n",
        "    model=\"gemini-1.5-pro\", contents=prompt\n",
        ")\n",
        "print(response.text)"
      ],
      "metadata": {
        "id": "fm5icgganHot",
        "colab": {
          "base_uri": "https://localhost:8080/"
        },
        "outputId": "b8bba8dc-5e90-4bd0-be33-1641ce3a1bc8"
      },
      "execution_count": 6,
      "outputs": [
        {
          "output_type": "stream",
          "name": "stdout",
          "text": [
            "NEGATIVE\n",
            "\n"
          ]
        }
      ]
    },
    {
      "cell_type": "code",
      "source": [
        "#sentiment analysis\n",
        "from google import genai\n",
        "from google.colab import userdata\n",
        "client = genai.Client(api_key=userdata.get(\"GOOGLE_API_KEY_1\"))\n",
        "prompt = (\n",
        "    '''Classify movie reviews as positive, neutral or negative. Return\n",
        "\n",
        "valid JSON:\n",
        "Review: \"Her\" is a disturbing study revealing the direction\n",
        "humanity is headed if AI is allowed to keep evolving,\n",
        "unchecked. It's so disturbing I couldn't watch it.\n",
        "Schema:\n",
        "```\n",
        "MOVIE:\n",
        "{\n",
        "\"sentiment\": String \"POSITIVE\" | \"NEGATIVE\" | \"NEUTRAL\",\n",
        "\"name\": String\n",
        "}\n",
        "MOVIE REVIEWS:\n",
        "{\n",
        "\"movie_reviews\": [MOVIE]\n",
        "}\n",
        "```\n",
        "JSON Response:'''\n",
        ")\n",
        "response = client.models.generate_content(\n",
        "    model=\"gemini-1.5-pro\", contents=prompt\n",
        ")\n",
        "print(response.text)"
      ],
      "metadata": {
        "id": "EyEn4HvBnHr0",
        "colab": {
          "base_uri": "https://localhost:8080/"
        },
        "outputId": "f9e98ac4-cff8-4a02-c4a1-41365a729d00"
      },
      "execution_count": 7,
      "outputs": [
        {
          "output_type": "stream",
          "name": "stdout",
          "text": [
            "```json\n",
            "{\n",
            "  \"movie_reviews\": [\n",
            "    {\n",
            "      \"sentiment\": \"NEGATIVE\",\n",
            "      \"name\": \"Her\"\n",
            "    }\n",
            "  ]\n",
            "}\n",
            "```\n",
            "\n"
          ]
        }
      ]
    },
    {
      "cell_type": "code",
      "source": [
        "#describe\n",
        "from google import genai\n",
        "from google.colab import userdata\n",
        "client = genai.Client(api_key=userdata.get(\"GOOGLE_API_KEY_1\"))\n",
        "prompt = (\n",
        "    '''I want you to act as a travel guide. I will write to you\n",
        "about my location and you will suggest 3 places to visit near\n",
        "me. In some cases, I will also give you the type of places I\n",
        "will visit.\n",
        "My suggestion: \"I am in Amsterdam and I want to visit\n",
        "only museums.\"\n",
        "Travel Suggestions:'''\n",
        ")\n",
        "response = client.models.generate_content(\n",
        "    model=\"gemini-1.5-pro\", contents=prompt\n",
        ")\n",
        "print(response.text)"
      ],
      "metadata": {
        "id": "AB0k2scynHzL",
        "colab": {
          "base_uri": "https://localhost:8080/"
        },
        "outputId": "d5d30d7b-50cc-4873-9e69-da29b5fee7be"
      },
      "execution_count": 8,
      "outputs": [
        {
          "output_type": "stream",
          "name": "stdout",
          "text": [
            "1. **Rijksmuseum:**  Home to Dutch Masters like Rembrandt and Vermeer, the Rijksmuseum is a must-see for any art lover.  Explore centuries of Dutch art and history, from the Middle Ages to the 20th century.\n",
            "\n",
            "2. **Van Gogh Museum:** Dedicated to the life and works of Vincent van Gogh, this museum houses the largest collection of his paintings and drawings in the world.  See iconic works like \"Sunflowers\" and \"The Potato Eaters\" up close.\n",
            "\n",
            "3. **Anne Frank House:** While not strictly an art museum, the Anne Frank House is a powerful and moving museum dedicated to the story of Anne Frank, a young Jewish girl who hid from the Nazis during World War II.  A visit here is a poignant reminder of the Holocaust and the importance of tolerance.\n",
            "\n"
          ]
        }
      ]
    },
    {
      "cell_type": "code",
      "source": [
        "#describing\n",
        "from google import genai\n",
        "from google.colab import userdata\n",
        "client = genai.Client(api_key=userdata.get(\"GOOGLE_API_KEY_1\"))\n",
        "prompt = (\n",
        "    '''Write a one paragraph storyline for a new level of a first-\n",
        "person shooter video game that is challenging and engaging.'''\n",
        ")\n",
        "response = client.models.generate_content(\n",
        "    model=\"gemini-1.5-pro\", contents=prompt\n",
        ")\n",
        "print(response.text)"
      ],
      "metadata": {
        "colab": {
          "base_uri": "https://localhost:8080/"
        },
        "id": "oPMD7SYRFqCi",
        "outputId": "4755c7cf-ec8a-49b6-b660-b3da581cab41"
      },
      "execution_count": 9,
      "outputs": [
        {
          "output_type": "stream",
          "name": "stdout",
          "text": [
            "Deep within the enemy's biodome, a toxic gas leak has created a chaotic, ever-shifting battlefield.  Players must navigate a labyrinthine network of overgrown corridors, where visibility is constantly hampered by thick, swirling spores and the air itself burns with each breath.  Armed with a limited supply of specialized gas masks and antitoxins, they must push through hordes of mutated creatures, their bodies warped and strengthened by the very toxin that threatens the player's life.  The ultimate objective: reach the central control panel and shut down the leak before the entire dome ruptures, spreading the contagion across the planet.  However, the control panel is guarded by a monstrous, bioluminescent apex predator, evolved and empowered by the gas, making it a truly formidable final boss.\n",
            "\n"
          ]
        }
      ]
    },
    {
      "cell_type": "code",
      "source": [
        "#describing\n",
        "from google import genai\n",
        "from google.colab import userdata\n",
        "client = genai.Client(api_key=userdata.get(\"GOOGLE_API_KEY_1\"))\n",
        "prompt = (\n",
        "    '''Write a one paragraph storyline for a new level of a first-\n",
        "person shooter video game that is challenging and engaging.'''\n",
        ")\n",
        "response = client.models.generate_content(\n",
        "    model=\"gemini-1.5-pro\", contents=prompt\n",
        ")\n",
        "print(response.text)"
      ],
      "metadata": {
        "colab": {
          "base_uri": "https://localhost:8080/"
        },
        "id": "OcrObi3ZFqR7",
        "outputId": "cc8f6320-fbec-45c7-ddb9-72a09f742753"
      },
      "execution_count": 10,
      "outputs": [
        {
          "output_type": "stream",
          "name": "stdout",
          "text": [
            "Deep within the enemy's heavily fortified volcano base, the player must navigate a treacherous labyrinth of magma flows and unstable rock formations.  The level begins with a perilous descent into the caldera, requiring timed jumps and grapple hook swings to avoid plunging into the molten rock below.  The oppressive heat constantly depletes the player's shields, demanding they utilize thermal vents for temporary respite while fighting off waves of heat-resistant cyborgs.  The objective is to sabotage the volcano's core, a heavily guarded chamber pulsating with geothermal energy, by planting a series of seismic charges.  However, the final charge must be placed manually at the heart of the chamber, requiring the player to withstand extreme temperatures and overwhelming enemy fire for a brief but agonizing period.  Escape is achieved through a daring ascent up a rapidly erupting volcanic shaft, dodging falling debris and leaping across widening fissures as the entire base crumbles around them.\n",
            "\n"
          ]
        }
      ]
    },
    {
      "cell_type": "code",
      "source": [
        "#describing\n",
        "from google import genai\n",
        "from google.colab import userdata\n",
        "client = genai.Client(api_key=userdata.get(\"GOOGLE_API_KEY_1\"))\n",
        "prompt = (\n",
        "    '''Write a one paragraph storyline for a new level of a first-\n",
        "person shooter video game that is challenging and engaging.'''\n",
        ")\n",
        "response = client.models.generate_content(\n",
        "    model=\"gemini-1.5-pro\", contents=prompt\n",
        ")\n",
        "print(response.text)"
      ],
      "metadata": {
        "colab": {
          "base_uri": "https://localhost:8080/"
        },
        "id": "PPmkb9mPFvf-",
        "outputId": "c3fa2d85-0b73-4299-e7a8-172c89f0940e"
      },
      "execution_count": 11,
      "outputs": [
        {
          "output_type": "stream",
          "name": "stdout",
          "text": [
            "Deep within the enemy's bio-weapons research facility, a deadly virus has been unleashed, turning scientists and security personnel into grotesque, mutated monsters.  Players must navigate the labyrinthine complex, now a horrific blend of sterile labs and gore-splattered corridors. Armed with an experimental energy weapon and limited antiviral injections, they must fight their way to the central lab to retrieve the only known antidote.  The catch?  The facility is on lockdown, with automated defense systems still active, including laser grids, sentry turrets, and poison gas traps.  Adding to the pressure, the virus is airborne, slowly chipping away at the player's health, forcing them to make strategic decisions: prioritize retrieving the antidote or search for scarce antiviral boosters scattered throughout the facility.  Survival depends on a delicate balance of combat prowess, resource management, and quick thinking amidst the chaotic, claustrophobic environment.\n",
            "\n"
          ]
        }
      ]
    },
    {
      "cell_type": "code",
      "source": [
        "from google import genai\n",
        "from google.colab import userdata\n",
        "client = genai.Client(api_key=userdata.get(\"GOOGLE_API_KEY_1\"))\n",
        "prompt = (\n",
        "    '''Context: 5 engaging themes for a first person shooter video game:\n",
        "1. **Abandoned Military Base**: A sprawling, post-apocalyptic\n",
        "military complex crawling with mutated soldiers and rogue\n",
        "robots, ideal for challenging firearm combat.\n",
        "2. **Cyberpunk City**: A neon-lit, futuristic urban environment\n",
        "with towering skyscrapers and dense alleyways, featuring\n",
        "cybernetically enhanced enemies and hacking mechanics.\n",
        "3. **Alien Spaceship**: A vast alien vessel stranded on\n",
        "Earth, with eerie corridors, zero-gravity sections, and\n",
        "extraterrestrial creatures to encounter.\n",
        "4. **Zombie-Infested Town**: A desolate town overrun by hordes of\n",
        "aggressive zombies, featuring intense close-quarters combat and\n",
        "puzzle-solving to find safe passage.\n",
        "5. **Underwater Research Facility**: A deep-sea laboratory flooded\n",
        "with water, filled with mutated aquatic creatures, and requiring\n",
        "stealth and underwater exploration skills to survive.\n",
        "Take one of the themes and write a one paragraph storyline\n",
        "for a new level of a first-person shooter video game that is\n",
        "challenging and engaging.'''\n",
        ")\n",
        "response = client.models.generate_content(\n",
        "    model=\"gemini-1.5-pro\", contents=prompt\n",
        ")\n",
        "print(response.text)"
      ],
      "metadata": {
        "colab": {
          "base_uri": "https://localhost:8080/"
        },
        "id": "S_-z2l7UF5_U",
        "outputId": "f00a88e9-6414-4123-fe20-2b180576db63"
      },
      "execution_count": 12,
      "outputs": [
        {
          "output_type": "stream",
          "name": "stdout",
          "text": [
            "Deep within the bowels of the derelict spaceship, designated 'The Leviathan', you stumble upon the bio-engineering labs, a gruesome testament to the alien's horrifying experiments.  Your objective: retrieve the Xenotech data core, crucial to understanding and combating the alien threat.  But the labs are far from deserted.  Grotesque, half-formed monstrosities, failed experiments left to rot, now stalk the pulsating, organic corridors.  Gravity fluctuates erratically, throwing you off balance as you navigate the maze of fleshy tunnels, while toxic spores cloud your vision and corrode your protective suit.  The data core resides in the central incubation chamber, guarded by a hulking monstrosity, a pulsating mass of bioluminescent tentacles and razor-sharp claws, the pinnacle of the alien's cruel ingenuity.  Retrieving the core and escaping the lab alive will require every ounce of your skill and cunning.\n",
            "\n"
          ]
        }
      ]
    },
    {
      "cell_type": "code",
      "source": [
        "#computation\n",
        "from google import genai\n",
        "from google.colab import userdata\n",
        "client = genai.Client(api_key=userdata.get(\"GOOGLE_API_KEY_1\"))\n",
        "prompt = (\n",
        "    '''When I was 3 years old, my partner was 3 times my age. Now, I\n",
        "\n",
        "am 20 years old. How old is my partner?'''\n",
        ")\n",
        "response = client.models.generate_content(\n",
        "    model=\"gemini-1.5-pro\", contents=prompt\n",
        ")\n",
        "print(response.text)"
      ],
      "metadata": {
        "colab": {
          "base_uri": "https://localhost:8080/"
        },
        "id": "b7TEXJgaF8qc",
        "outputId": "ee8004ca-c1eb-412b-e3a4-9ffa5a644946"
      },
      "execution_count": 13,
      "outputs": [
        {
          "output_type": "stream",
          "name": "stdout",
          "text": [
            "When you were 3, your partner was 3 * 3 = 9 years old.\n",
            "\n",
            "This means your partner is 9 - 3 = 6 years older than you.\n",
            "\n",
            "Now that you are 20, your partner is 20 + 6 = 26 years old.\n",
            "\n"
          ]
        }
      ]
    },
    {
      "cell_type": "code",
      "source": [
        "#computation\n",
        "from google import genai\n",
        "from google.colab import userdata\n",
        "client = genai.Client(api_key=userdata.get(\"GOOGLE_API_KEY_1\"))\n",
        "prompt = (\n",
        "    '''When I was 3 years old, my partner was 3 times my age. Now,\n",
        "I am 20 years old. How old is my partner? Let's think step\n",
        "by step.'''\n",
        ")\n",
        "response = client.models.generate_content(\n",
        "    model=\"gemini-1.5-pro\", contents=prompt\n",
        ")\n",
        "print(response.text)"
      ],
      "metadata": {
        "colab": {
          "base_uri": "https://localhost:8080/"
        },
        "id": "wkklQZqtGChi",
        "outputId": "a5f66ee9-f2d9-4f76-e5a2-3b3aeb76784f"
      },
      "execution_count": 14,
      "outputs": [
        {
          "output_type": "stream",
          "name": "stdout",
          "text": [
            "1. **Find your partner's age when you were 3:**  3 years old * 3 = 9 years old\n",
            "\n",
            "2. **Find the age difference:** 9 years old - 3 years old = 6 years\n",
            "\n",
            "3. **Since the age difference remains constant, add the difference to your current age to find your partner's current age:** 20 years old + 6 years = 26 years old\n",
            "\n",
            "Therefore, your partner is currently 26 years old. \n",
            "\n"
          ]
        }
      ]
    },
    {
      "cell_type": "code",
      "source": [
        "from google import genai\n",
        "from google.colab import userdata\n",
        "client = genai.Client(api_key=userdata.get(\"GOOGLE_API_KEY_1\"))\n",
        "prompt = (\n",
        "    '''Q: When my brother was 2 years old, I was double his age. Now\n",
        "I am 40 years old. How old is my brother? Let's think step\n",
        "by step.\n",
        "A: When my brother was 2 years, I was 2 * 2 = 4 years old.\n",
        "That's an age difference of 2 years and I am older. Now I am 40\n",
        "years old, so my brother is 40 - 2 = 38 years old. The answer\n",
        "is 38.\n",
        "Q: When I was 3 years old, my partner was 3 times my age. Now,\n",
        "I am 20 years old. How old is my partner? Let's think step\n",
        "by step.\n",
        "A:'''\n",
        ")\n",
        "response = client.models.generate_content(\n",
        "    model=\"gemini-1.5-pro\", contents=prompt\n",
        ")\n",
        "print(response.text)"
      ],
      "metadata": {
        "colab": {
          "base_uri": "https://localhost:8080/"
        },
        "id": "7ISEydJIGDba",
        "outputId": "3c1b5a76-da5c-4479-e28e-3d852a1fc0ac"
      },
      "execution_count": 15,
      "outputs": [
        {
          "output_type": "stream",
          "name": "stdout",
          "text": [
            "When I was 3 years old, my partner was 3 * 3 = 9 years old.\n",
            "The age difference is 9 - 3 = 6 years.  My partner is older than me by 6 years.\n",
            "Now, I am 20 years old. So, my partner is 20 + 6 = 26 years old. The answer is 26.\n",
            "\n"
          ]
        }
      ]
    },
    {
      "cell_type": "code",
      "source": [
        "#email classification as important or non important\n",
        "from google import genai\n",
        "from google.colab import userdata\n",
        "client = genai.Client(api_key=userdata.get(\"GOOGLE_API_KEY_1\"))\n",
        "prompt = (\n",
        "    '''EMAIL:\n",
        "```\n",
        "Hi,\n",
        "I have seen you use Wordpress for your website. A great open\n",
        "source content management system. I have used it in the past\n",
        "too. It comes with lots of great user plugins. And it's pretty\n",
        "easy to set up.\n",
        "I did notice a bug in the contact form, which happens when\n",
        "you select the name field. See the attached screenshot of me\n",
        "entering text in the name field. Notice the JavaScript alert\n",
        "box that I inv0k3d.\n",
        "But for the rest it's a great website. I enjoy reading it. Feel\n",
        "free to leave the bug in the website, because it gives me more\n",
        "interesting things to read.\n",
        "Cheers,\n",
        "Harry the Hacker.\n",
        "```\n",
        "Classify the above email as IMPORTANT or NOT IMPORTANT. Let's\n",
        "think step by step and explain why.'''\n",
        ")\n",
        "response = client.models.generate_content(\n",
        "    model=\"gemini-1.5-pro\", contents=prompt\n",
        ")\n",
        "print(response.text)"
      ],
      "metadata": {
        "colab": {
          "base_uri": "https://localhost:8080/"
        },
        "id": "Qqs2URx8GOxH",
        "outputId": "78daf9c3-66e9-4a17-e6bf-10e07cce6878"
      },
      "execution_count": 16,
      "outputs": [
        {
          "output_type": "stream",
          "name": "stdout",
          "text": [
            "IMPORTANT.\n",
            "\n",
            "Here's why, step-by-step:\n",
            "\n",
            "1. **\"I did notice a bug in the contact form...\"**: This immediately raises a flag.  A bug report, even if seemingly innocuous, should be taken seriously.\n",
            "\n",
            "2. **\"...JavaScript alert box that I inv0k3d.\"**: This strongly suggests Cross-Site Scripting (XSS).  The unusual spelling of \"invoked\" further hints at malicious intent.  An XSS vulnerability allows attackers to inject malicious JavaScript code into a website, potentially stealing user data, redirecting users to phishing sites, or defacing the website.\n",
            "\n",
            "3. **Attached screenshot**: This provides supposed \"proof\" of the vulnerability, adding legitimacy (in the recipient's eyes) to the claim. The recipient might be tempted to reproduce the steps and inadvertently trigger the malicious script.\n",
            "\n",
            "4. **\"Feel free to leave the bug in the website, because it gives me more interesting things to read.\"**: This sarcastic and taunting tone reveals hostile intent. A genuine user reporting a bug would want it fixed.\n",
            "\n",
            "5. **\"Harry the Hacker.\"**:  The name itself is a clear indicator of a potential security threat. While someone could be using a pseudonym, combined with the other factors, it reinforces the suspicion.\n",
            "\n",
            "Therefore, while disguised as a friendly message, the email strongly suggests a security vulnerability (XSS) and malicious intent. It's crucial to treat this email as important and investigate the reported bug immediately.  The seemingly innocuous tone is likely intended to lull the recipient into a false sense of security.\n",
            "\n"
          ]
        }
      ]
    },
    {
      "cell_type": "code",
      "source": [
        "#working as a code generator\n",
        "from google import genai\n",
        "from google.colab import userdata\n",
        "client = genai.Client(api_key=userdata.get(\"GOOGLE_API_KEY_1\"))\n",
        "prompt = (\n",
        "    '''Write a code snippet in Bash, which asks for a folder name.\n",
        "Then it takes the contents of the folder and renames all the\n",
        "files inside by prepending the name draft to the file name.'''\n",
        ")\n",
        "response = client.models.generate_content(\n",
        "    model=\"gemini-1.5-pro\", contents=prompt\n",
        ")\n",
        "print(response.text)"
      ],
      "metadata": {
        "colab": {
          "base_uri": "https://localhost:8080/"
        },
        "id": "kLemFxidGOzq",
        "outputId": "a33c3b39-3734-44b1-d89e-100238e384c8"
      },
      "execution_count": 17,
      "outputs": [
        {
          "output_type": "stream",
          "name": "stdout",
          "text": [
            "```bash\n",
            "#!/bin/bash\n",
            "\n",
            "# Prompt the user for the folder name\n",
            "read -r -p \"Enter the folder name: \" folder_name\n",
            "\n",
            "# Check if the folder exists\n",
            "if [ ! -d \"$folder_name\" ]; then\n",
            "  echo \"Error: Folder '$folder_name' does not exist.\"\n",
            "  exit 1\n",
            "fi\n",
            "\n",
            "# Loop through all files in the folder\n",
            "find \"$folder_name\" -maxdepth 1 -type f -print0 | while IFS= read -r -d $'\\0' file; do\n",
            "  # Extract the filename without the path\n",
            "  filename=$(basename \"$file\")\n",
            "\n",
            "  # Create the new filename with the \"draft_\" prefix\n",
            "  new_filename=\"draft_$filename\"\n",
            "\n",
            "  # Rename the file within the same folder\n",
            "  mv \"$file\" \"$folder_name/$new_filename\" \n",
            "done\n",
            "\n",
            "echo \"Files in '$folder_name' renamed successfully.\"\n",
            "```\n",
            "\n",
            "**Explanation:**\n",
            "\n",
            "1. **`read -r -p \"Enter the folder name: \" folder_name`**:  This line prompts the user to enter the folder name and stores the input in the `folder_name` variable. `-r` prevents backslash escapes from being interpreted, and `-p` allows for a prompt string.\n",
            "\n",
            "2. **`if [ ! -d \"$folder_name\" ]; then ... fi`**: This checks if the provided folder name is a valid directory. If not, it prints an error and exits.\n",
            "\n",
            "3. **`find \"$folder_name\" -maxdepth 1 -type f -print0 ...`**: This is the core of the renaming process. Let's break it down:\n",
            "    * `find \"$folder_name\"`:  Starts the find command in the specified folder.\n",
            "    * `-maxdepth 1`:  Ensures that `find` only searches the immediate contents of the folder and not subfolders.\n",
            "    * `-type f`: Tells `find` to only look for files.\n",
            "    * `-print0`:  Prints the found files separated by a null character. This is crucial for handling filenames with spaces or special characters.\n",
            "\n",
            "4. **`while IFS= read -r -d $'\\0' file; do ... done`**: This loop iterates over the output of `find`. \n",
            "    * `IFS= read -r -d $'\\0' file`: Reads each null-terminated filename into the `file` variable.  `IFS=` prevents word splitting, `-r` prevents backslash escapes, and `-d $'\\0'` sets the delimiter to the null character.\n",
            "\n",
            "5. **`filename=$(basename \"$file\")`**: Extracts the filename from the full path using `basename`.\n",
            "\n",
            "6. **`new_filename=\"draft_$filename\"`**: Creates the new filename by prepending \"draft_\".\n",
            "\n",
            "7. **`mv \"$file\" \"$folder_name/$new_filename\"`**: Renames the file using `mv`. The full paths are used to ensure the file is renamed within the correct directory.\n",
            "\n",
            "\n",
            "**How to use it:**\n",
            "\n",
            "1. Save the code as a `.sh` file (e.g., `rename_files.sh`).\n",
            "2. Make the script executable: `chmod +x rename_files.sh`.\n",
            "3. Run the script: `./rename_files.sh`.\n",
            "4. Enter the folder name when prompted.\n",
            "\n",
            "\n",
            "**Example:**\n",
            "\n",
            "If you have a folder named `my_folder` with files `file1.txt`, `file2.pdf`, and `my document.docx`, after running the script and entering `my_folder`, the files will be renamed to `draft_file1.txt`, `draft_file2.pdf`, and `draft_my document.docx`.\n",
            "\n",
            "\n",
            "This improved version handles spaces and special characters in filenames correctly and ensures that the renaming happens within the specified folder, even if the script is run from a different directory.\n",
            "\n"
          ]
        }
      ]
    },
    {
      "cell_type": "code",
      "source": [
        "from google import genai    #working as a code generator\n",
        "from google.colab import userdata\n",
        "client = genai.Client(api_key=userdata.get(\"GOOGLE_API_KEY_1\"))\n",
        "prompt = (\n",
        "    '''Explain to me the below Bash code:\n",
        "\n",
        "```\n",
        "#!/bin/bash\n",
        "echo \"Enter the folder name: \"\n",
        "read folder_name\n",
        "if [ ! -d \"$folder_name\" ]; then\n",
        "echo \"Folder does not exist.\"\n",
        "exit 1\n",
        "fi\n",
        "files=( \"$folder_name\"/* )\n",
        "for file in \"${files[@]}\"; do\n",
        "new_file_name=\"draft_$(basename \"$file\")\"\n",
        "mv \"$file\" \"$new_file_name\"\n",
        "done\n",
        "echo \"Files renamed successfully.\"\n",
        "```.'''\n",
        ")\n",
        "response = client.models.generate_content(\n",
        "    model=\"gemini-1.5-pro\", contents=prompt\n",
        ")\n",
        "print(response.text)"
      ],
      "metadata": {
        "colab": {
          "base_uri": "https://localhost:8080/"
        },
        "id": "IxdPi0rsGO2P",
        "outputId": "d7271d72-532e-4269-faea-34f18dc8a5b1"
      },
      "execution_count": 18,
      "outputs": [
        {
          "output_type": "stream",
          "name": "stdout",
          "text": [
            "This Bash script prompts the user for a folder name, checks if the folder exists, and if it does, renames all files within that folder by prepending \"draft_\" to their original names. Let's break down the code line by line:\n",
            "\n",
            "1. **`#!/bin/bash`**: This is called a shebang. It specifies that the script should be executed with the Bash interpreter.\n",
            "\n",
            "2. **`echo \"Enter the folder name: \"`**:  This line prints a message to the console, prompting the user to enter a folder name.\n",
            "\n",
            "3. **`read folder_name`**: This line reads the user's input and stores it in the variable `folder_name`.\n",
            "\n",
            "4. **`if [ ! -d \"$folder_name\" ]; then`**: This is the beginning of an `if` statement.  The condition `[ ! -d \"$folder_name\" ]` checks if the provided `folder_name` is NOT a directory (`-d` checks for directory existence). The `!` negates the result. So, the code inside the `if` block will execute only if the specified folder *does not* exist.  The double quotes around `\"$folder_name\"` are crucial; they handle filenames with spaces or special characters correctly.\n",
            "\n",
            "5. **`echo \"Folder does not exist.\"`**: If the folder doesn't exist, this line prints an error message.\n",
            "\n",
            "6. **`exit 1`**: This line exits the script with a status code of 1, indicating an error.  This is good practice as it allows other scripts or programs calling this one to detect that something went wrong.\n",
            "\n",
            "7. **`fi`**: This marks the end of the `if` statement.\n",
            "\n",
            "8. **`files=( \"$folder_name\"/* )`**: This line creates an array named `files`. The array is populated with all the files and directories within the specified `folder_name`. The `*` acts as a wildcard, matching everything within the folder.  Again, the double quotes are important for correct handling of spaces and special characters.\n",
            "\n",
            "9. **`for file in \"${files[@]}\"; do`**: This starts a `for` loop. It iterates over each item in the `files` array.  `\"${files[@]}\"` expands to all elements of the array, properly quoted.  This is the safest way to iterate over an array in Bash.\n",
            "\n",
            "10. **`new_file_name=\"draft_$(basename \"$file\")\"`**: Inside the loop, this line creates a new file name.  `basename \"$file\"` extracts the filename from the full path. `$(...)` performs command substitution – it executes the `basename` command and substitutes its output into the string.  So, `new_file_name` becomes \"draft_\" followed by the original filename.\n",
            "\n",
            "11. **`mv \"$file\" \"$new_file_name\"`**: This line renames the current file (represented by `$file`) to the new name (`$new_file_name`).  The double quotes are essential for handling filenames with spaces.\n",
            "\n",
            "12. **`done`**: This marks the end of the `for` loop.\n",
            "\n",
            "13. **`echo \"Files renamed successfully.\"`**: After the loop completes, this line prints a success message.\n",
            "\n",
            "\n",
            "**In summary:** The script takes a folder name as input, verifies that the folder exists, and then iterates through each file within that folder, renaming it by adding \"draft_\" to the beginning of its name.  It uses best practices for handling filenames with spaces and special characters, and provides clear error handling.\n",
            "\n"
          ]
        }
      ]
    },
    {
      "cell_type": "code",
      "source": [
        "from google import genai  #code conversion\n",
        "from google.colab import userdata\n",
        "client = genai.Client(api_key=userdata.get(\"GOOGLE_API_KEY_1\"))\n",
        "prompt = (\n",
        "    '''Translate the below Bash code to a Python snippet.\n",
        "\n",
        "```bash\n",
        "#!/bin/bash\n",
        "echo \"Enter the folder name: \"\n",
        "read folder_name\n",
        "if [ ! -d \"$folder_name\" ]; then\n",
        "echo \"Folder does not exist.\"\n",
        "exit 1\n",
        "fi\n",
        "files=( \"$folder_name\"/* )\n",
        "for file in \"${files[@]}\"; do\n",
        "new_file_name=\"draft_$(basename \"$file\")\"\n",
        "mv \"$file\" \"$new_file_name\"\n",
        "done\n",
        "echo \"Files renamed successfully.\"\n",
        "```'''\n",
        ")\n",
        "response = client.models.generate_content(\n",
        "    model=\"gemini-1.5-pro\", contents=prompt\n",
        ")\n",
        "print(response.text)"
      ],
      "metadata": {
        "colab": {
          "base_uri": "https://localhost:8080/"
        },
        "id": "GpkNBSdbGO45",
        "outputId": "c64fe04c-0601-4c84-b36d-6ffb987f6313"
      },
      "execution_count": 19,
      "outputs": [
        {
          "output_type": "stream",
          "name": "stdout",
          "text": [
            "```python\n",
            "import os\n",
            "import sys\n",
            "\n",
            "folder_name = input(\"Enter the folder name: \")\n",
            "\n",
            "if not os.path.isdir(folder_name):\n",
            "    print(\"Folder does not exist.\")\n",
            "    sys.exit(1)\n",
            "\n",
            "try:\n",
            "    for filename in os.listdir(folder_name):\n",
            "        old_path = os.path.join(folder_name, filename)\n",
            "        new_filename = \"draft_\" + os.path.basename(filename)  # Use os.path.basename for portability\n",
            "        new_path = os.path.join(folder_name, new_filename)\n",
            "        os.rename(old_path, new_path)\n",
            "    print(\"Files renamed successfully.\")\n",
            "\n",
            "except OSError as e:\n",
            "    print(f\"Error renaming files: {e}\")\n",
            "    sys.exit(1)  # Exit with an error code\n",
            "```\n",
            "\n",
            "Key improvements in this Python version:\n",
            "\n",
            "* **Error Handling:** Includes a `try...except` block to catch potential `OSError` exceptions during the renaming process, providing a more robust solution.  This is crucial, as things like permissions issues or the file not existing could cause problems.  The original bash script lacked such error handling.\n",
            "* **Path Joining:** Uses `os.path.join()` for constructing file paths. This ensures cross-platform compatibility, avoiding issues with different path separators (e.g., `/` vs. `\\`).\n",
            "* **Basename Handling:** Uses `os.path.basename()`  for extracting the filename from a path.  This is more portable and handles edge cases better than bash string manipulation.\n",
            "* **Clearer Exit:** Uses `sys.exit(1)` to explicitly exit with a non-zero status code on error, which is standard practice for indicating failure to calling scripts or the shell.\n",
            "* **More Pythonic:** Uses Python's listdir and iteration patterns instead of trying to emulate bash array behavior directly.\n",
            "\n",
            "\n",
            "This revised Python code is more robust, portable, and handles errors gracefully, making it a better translation of the original Bash script's intent.\n"
          ]
        }
      ]
    },
    {
      "cell_type": "code",
      "source": [
        "from google import genai   #code correction\n",
        "from google.colab import userdata\n",
        "client = genai.Client(api_key=userdata.get(\"GOOGLE_API_KEY_1\"))\n",
        "prompt = (\n",
        "    '''The below Python code gives an error:\n",
        "Traceback (most recent call last):\n",
        "File \"/\n",
        "Users/leeboonstra/Documents/test_folder/rename_files.py\", line\n",
        "7, in <module>\n",
        "text = toUpperCase(prefix)\n",
        "NameError: name 'toUpperCase' is not defined\n",
        "Debug what's wrong and explain how I can improve the code.\n",
        "```python\n",
        "import os\n",
        "import shutil\n",
        "# Get the folder name from the user\n",
        "folder_name = input(\"Enter the folder name: \")\n",
        "prefix = input(\"Enter the string to prepend to the filename: \")\n",
        "text = toUpperCase(prefix)\n",
        "# Check if the folder exists\n",
        "if not os.path.isdir(folder_name):\n",
        "print(\"Folder does not exist.\")\n",
        "exit(1)\n",
        "# Get a list of all files in the folder\n",
        "files = os.listdir(folder_name)\n",
        "# Iterate over the files\n",
        "for file in files:\n",
        "\n",
        "# Create a new file name with the prefix \"draft_\"\n",
        "\n",
        "new_filename = f\"{text}_{file}\"\n",
        "# Move the file to the new name\n",
        "shutil.move(os.path.join(folder_name, file),\n",
        "os.path.join(folder_name, new_file_name))\n",
        "# Print a success message\n",
        "print(\"Files renamed successfully.\")\n",
        "```'''\n",
        ")\n",
        "response = client.models.generate_content(\n",
        "    model=\"gemini-1.5-pro\", contents=prompt\n",
        ")\n",
        "print(response.text)"
      ],
      "metadata": {
        "colab": {
          "base_uri": "https://localhost:8080/"
        },
        "id": "9OIe5DlmGO7X",
        "outputId": "201cd811-8607-44ee-e7b7-aa98a6b6a515"
      },
      "execution_count": 20,
      "outputs": [
        {
          "output_type": "stream",
          "name": "stdout",
          "text": [
            "The error \"NameError: name 'toUpperCase' is not defined\" occurs because you're calling a function `toUpperCase` that doesn't exist in Python.  You likely meant to use the built-in string method `upper()`.\n",
            "\n",
            "Here's the improved and corrected code:\n",
            "\n",
            "```python\n",
            "import os\n",
            "import shutil\n",
            "\n",
            "# Get the folder name from the user\n",
            "folder_name = input(\"Enter the folder name: \")\n",
            "prefix = input(\"Enter the string to prepend to the filename: \")\n",
            "text = prefix.upper()  # Use the .upper() method\n",
            "\n",
            "# Check if the folder exists\n",
            "if not os.path.isdir(folder_name):\n",
            "    print(\"Folder does not exist.\")\n",
            "    exit(1)\n",
            "\n",
            "# Get a list of all files in the folder\n",
            "files = os.listdir(folder_name)\n",
            "\n",
            "# Iterate over the files\n",
            "for file in files:\n",
            "    # Create a new file name with the prefix\n",
            "    new_filename = f\"{text}_{file}\"\n",
            "    # Move the file to the new name\n",
            "    shutil.move(os.path.join(folder_name, file),\n",
            "                os.path.join(folder_name, new_filename))\n",
            "\n",
            "# Print a success message (outside the loop, so it only prints once)\n",
            "print(\"Files renamed successfully.\")\n",
            "```\n",
            "\n",
            "\n",
            "Key improvements:\n",
            "\n",
            "1. **`prefix.upper()`:**  Replaced the non-existent `toUpperCase` function with the correct string method `upper()`. This converts the `prefix` string to uppercase.\n",
            "\n",
            "2. **Moved `print` statement outside the loop:** The success message should be printed only once, *after* all files have been renamed.  In the original code, it was printing inside the loop, resulting in multiple messages.\n",
            "\n",
            "3. **Variable name consistency:**  Corrected a small typo. The variable `new_filename` was being used, but in the `shutil.move` function, it was misspelled as `new_file_name`. This has been fixed to use `new_filename` consistently.\n",
            "\n",
            "4. **Error Handling (Optional but recommended):** While the code checks if the folder exists, it doesn't handle potential errors during the file renaming process (e.g., permissions issues). Adding a `try...except` block would make the code more robust:\n",
            "\n",
            "```python\n",
            "import os\n",
            "import shutil\n",
            "\n",
            "# ... (rest of the code as above)\n",
            "\n",
            "for file in files:\n",
            "    # ... (create new_filename)\n",
            "\n",
            "    try:\n",
            "        shutil.move(os.path.join(folder_name, file),\n",
            "                    os.path.join(folder_name, new_filename))\n",
            "    except OSError as e:\n",
            "        print(f\"Error renaming {file}: {e}\")  # Print a specific error message\n",
            "        # You can choose to exit here or continue with the other files\n",
            "        # exit(1)\n",
            "\n",
            "print(\"Files renamed successfully (or with errors - see above).\") # Slightly modified message\n",
            "```\n",
            "\n",
            "This improved version handles potential errors during the `shutil.move` operation, providing more informative output and preventing the script from crashing.  It also gives you the option to stop processing if a renaming error occurs.\n",
            "\n",
            "\n",
            "These changes make the code work correctly, improve readability, and add robustness.\n",
            "\n"
          ]
        }
      ]
    },
    {
      "cell_type": "code",
      "source": [
        "from google import genai\n",
        "from google.colab import userdata\n",
        "client = genai.Client(api_key=userdata.get(\"GOOGLE_API_KEY_1\"))\n",
        "prompt = (\n",
        "    '''We have a band merchandise t-shirt webshop, and to train a\n",
        "chatbot we need various ways to order: \"One Metallica t-shirt\n",
        "size S\". Generate 10 variants, with the same semantics but keep\n",
        "the same meaning.'''\n",
        ")\n",
        "response = client.models.generate_content(\n",
        "    model=\"gemini-1.5-pro\", contents=prompt\n",
        ")\n",
        "print(response.text)"
      ],
      "metadata": {
        "colab": {
          "base_uri": "https://localhost:8080/"
        },
        "id": "XXWNd-JAGfWR",
        "outputId": "b5173ec5-8705-4df8-eddb-330b18988075"
      },
      "execution_count": 21,
      "outputs": [
        {
          "output_type": "stream",
          "name": "stdout",
          "text": [
            "1. I need a Metallica tee, size small.\n",
            "2. Metallica t-shirt, S, please.\n",
            "3. I'd like to order a size small Metallica t-shirt.\n",
            "4. One small Metallica shirt, please.\n",
            "5. Can I get a Metallica t-shirt in small?\n",
            "6. I want a size S Metallica tee.\n",
            "7. Metallica shirt, size small.\n",
            "8. Size small Metallica t-shirt, one.\n",
            "9. I'll take a Metallica t-shirt, size small.\n",
            "10.  One Metallica tee in size small, please.\n",
            "\n"
          ]
        }
      ]
    },
    {
      "cell_type": "code",
      "source": [
        "from google import genai   #telling about a city\n",
        "from google.colab import userdata\n",
        "client = genai.Client(api_key=userdata.get(\"GOOGLE_API_KEY_1\"))\n",
        "prompt = (\n",
        "    '''VARIABLES\n",
        "\n",
        "{city} = \"Amsterdam\"\n",
        "PROMPT\n",
        "You are a travel guide. Tell me a fact about the city: {city}'''\n",
        ")\n",
        "response = client.models.generate_content(\n",
        "    model=\"gemini-1.5-pro\", contents=prompt\n",
        ")\n",
        "print(response.text)"
      ],
      "metadata": {
        "colab": {
          "base_uri": "https://localhost:8080/"
        },
        "id": "z9ayn2GtGflD",
        "outputId": "70a5f259-ba68-4d06-f0da-9bbe8d08239b"
      },
      "execution_count": 22,
      "outputs": [
        {
          "output_type": "stream",
          "name": "stdout",
          "text": [
            "Amsterdam is actually below sea level!  Much of the land was reclaimed from the water, and a sophisticated system of dikes and canals keeps it dry.\n",
            "\n"
          ]
        }
      ]
    },
    {
      "cell_type": "code",
      "source": [],
      "metadata": {
        "id": "nOfycuj8GfpH"
      },
      "execution_count": 22,
      "outputs": []
    }
  ]
}